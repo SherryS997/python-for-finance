{
 "cells": [
  {
   "cell_type": "code",
   "execution_count": 1,
   "metadata": {},
   "outputs": [],
   "source": [
    "import datetime as dt\n",
    "import pylab as plt\n",
    "from matplotlib import style\n",
    "import pandas_datareader.data as web\n",
    "import pandas as pd"
   ]
  },
  {
   "cell_type": "code",
   "execution_count": 10,
   "metadata": {},
   "outputs": [],
   "source": [
    "style.use(\"ggplot\")\n",
    "\n",
    "start = dt.datetime(2000, 1, 1)\n",
    "end = dt.datetime(2020, 12, 12)\n",
    "\n",
    "df = web.DataReader(\"TSLA\", \"yahoo\", start, end)\n",
    "\n",
    "df.to_csv(\"TSLA.csv\")"
   ]
  },
  {
   "cell_type": "code",
   "execution_count": 21,
   "metadata": {},
   "outputs": [
    {
     "data": {
      "text/html": [
       "<div>\n",
       "<style scoped>\n",
       "    .dataframe tbody tr th:only-of-type {\n",
       "        vertical-align: middle;\n",
       "    }\n",
       "\n",
       "    .dataframe tbody tr th {\n",
       "        vertical-align: top;\n",
       "    }\n",
       "\n",
       "    .dataframe thead th {\n",
       "        text-align: right;\n",
       "    }\n",
       "</style>\n",
       "<table border=\"1\" class=\"dataframe\">\n",
       "  <thead>\n",
       "    <tr style=\"text-align: right;\">\n",
       "      <th></th>\n",
       "      <th>High</th>\n",
       "      <th>Low</th>\n",
       "      <th>Open</th>\n",
       "      <th>Close</th>\n",
       "      <th>Volume</th>\n",
       "      <th>Adj Close</th>\n",
       "    </tr>\n",
       "    <tr>\n",
       "      <th>Date</th>\n",
       "      <th></th>\n",
       "      <th></th>\n",
       "      <th></th>\n",
       "      <th></th>\n",
       "      <th></th>\n",
       "      <th></th>\n",
       "    </tr>\n",
       "  </thead>\n",
       "  <tbody>\n",
       "    <tr>\n",
       "      <th>2020-12-07</th>\n",
       "      <td>648.789978</td>\n",
       "      <td>603.049988</td>\n",
       "      <td>604.919983</td>\n",
       "      <td>641.760010</td>\n",
       "      <td>56309700.0</td>\n",
       "      <td>641.760010</td>\n",
       "    </tr>\n",
       "    <tr>\n",
       "      <th>2020-12-08</th>\n",
       "      <td>651.280029</td>\n",
       "      <td>618.500000</td>\n",
       "      <td>625.510010</td>\n",
       "      <td>649.880005</td>\n",
       "      <td>64265000.0</td>\n",
       "      <td>649.880005</td>\n",
       "    </tr>\n",
       "    <tr>\n",
       "      <th>2020-12-09</th>\n",
       "      <td>654.320007</td>\n",
       "      <td>588.000000</td>\n",
       "      <td>653.690002</td>\n",
       "      <td>604.479980</td>\n",
       "      <td>71291200.0</td>\n",
       "      <td>604.479980</td>\n",
       "    </tr>\n",
       "    <tr>\n",
       "      <th>2020-12-10</th>\n",
       "      <td>627.750000</td>\n",
       "      <td>566.340027</td>\n",
       "      <td>574.369995</td>\n",
       "      <td>627.070007</td>\n",
       "      <td>67083200.0</td>\n",
       "      <td>627.070007</td>\n",
       "    </tr>\n",
       "    <tr>\n",
       "      <th>2020-12-11</th>\n",
       "      <td>624.000000</td>\n",
       "      <td>596.799988</td>\n",
       "      <td>615.010010</td>\n",
       "      <td>609.989990</td>\n",
       "      <td>46475000.0</td>\n",
       "      <td>609.989990</td>\n",
       "    </tr>\n",
       "  </tbody>\n",
       "</table>\n",
       "</div>"
      ],
      "text/plain": [
       "                  High         Low        Open       Close      Volume  \\\n",
       "Date                                                                     \n",
       "2020-12-07  648.789978  603.049988  604.919983  641.760010  56309700.0   \n",
       "2020-12-08  651.280029  618.500000  625.510010  649.880005  64265000.0   \n",
       "2020-12-09  654.320007  588.000000  653.690002  604.479980  71291200.0   \n",
       "2020-12-10  627.750000  566.340027  574.369995  627.070007  67083200.0   \n",
       "2020-12-11  624.000000  596.799988  615.010010  609.989990  46475000.0   \n",
       "\n",
       "             Adj Close  \n",
       "Date                    \n",
       "2020-12-07  641.760010  \n",
       "2020-12-08  649.880005  \n",
       "2020-12-09  604.479980  \n",
       "2020-12-10  627.070007  \n",
       "2020-12-11  609.989990  "
      ]
     },
     "execution_count": 21,
     "metadata": {},
     "output_type": "execute_result"
    }
   ],
   "source": [
    "df = pd.read_csv(\"TSLA.csv\", parse_dates=True, index_col=0)\n",
    "\n",
    "df.tail()"
   ]
  },
  {
   "cell_type": "code",
   "execution_count": 25,
   "metadata": {},
   "outputs": [],
   "source": [
    "df[\"100ma\"] = df[\"Adj Close\"].rolling(window=100, min_periods=0).mean()\n",
    "df.dropna(inplace=True)"
   ]
  },
  {
   "cell_type": "code",
   "execution_count": 26,
   "metadata": {},
   "outputs": [
    {
     "data": {
      "image/png": "[encoded data removed]",
      "text/plain": [
       "<Figure size 432x288 with 2 Axes>"
      ]
     },
     "metadata": {},
     "output_type": "display_data"
    }
   ],
   "source": [
    "ax1 = plt.subplot2grid((6,1), (0,0), rowspan=5, colspan=1)\n",
    "ax2 = plt.subplot2grid((6,1), (5,0), rowspan=1, colspan=1, sharex=ax1)\n",
    "\n",
    "ax1.plot(df.index, df[\"Adj Close\"])\n",
    "ax1.plot(df.index, df[\"100ma\"])\n",
    "ax2.plot(df.index, df[\"Volume\"])\n",
    "\n",
    "plt.show()"
   ]
  },
  {
   "cell_type": "code",
   "execution_count": null,
   "metadata": {},
   "outputs": [],
   "source": []
  }
 ],
 "metadata": {
  "interpreter": {
   "hash": "e7370f93d1d0cde622a1f8e1c04877d8463912d04d973331ad4851f04de6915a"
  },
  "kernelspec": {
   "display_name": "Python 3.9.7 64-bit",
   "name": "python3"
  },
  "language_info": {
   "codemirror_mode": {
    "name": "ipython",
    "version": 3
   },
   "file_extension": ".py",
   "mimetype": "text/x-python",
   "name": "python",
   "nbconvert_exporter": "python",
   "pygments_lexer": "ipython3",
   "version": "3.9.7"
  },
  "orig_nbformat": 4
 },
 "nbformat": 4,
 "nbformat_minor": 2
}
